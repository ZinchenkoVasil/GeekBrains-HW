{
 "cells": [
  {
   "cell_type": "code",
   "execution_count": 1,
   "metadata": {},
   "outputs": [],
   "source": [
    "import numpy as np\n",
    "import pandas as pd\n",
    "import random\n",
    "import matplotlib.pyplot as plt"
   ]
  },
  {
   "cell_type": "code",
   "execution_count": 2,
   "metadata": {},
   "outputs": [],
   "source": [
    "# Сренеквадратичное отколонение\n",
    "mse_err = lambda y, y_pred : np.mean((y - y_pred) ** 2)\n",
    "#Нормализация\n",
    "norm = lambda ar: np.array([[(j - i.min())/i.max() for j in i] for i in ar])\n",
    "#Стандартизация\n",
    "stand = lambda ar: np.array([(i - i.mean())/i.std() for i in ar])\n",
    "# Log loss функция оценки качества классификации\n",
    "log_loss = lambda y, y_pred: -np.mean(y * np.log(y_pred + 1e-20) + (1 - y) * np.log(-y_pred+1 + 1e-20))\n",
    "# Cигмойд\n",
    "sigmoid = lambda z: (1/(np.exp(-z)+1))"
   ]
  },
  {
   "cell_type": "code",
   "execution_count": 3,
   "metadata": {},
   "outputs": [],
   "source": [
    "#Данные урока\n",
    "X = np.array([[1, 1, 1, 1, 1, 1, 1, 1, 1, 1],\n",
    "              [1, 1, 2, 1, 3, 0, 5, 10, 1, 2],\n",
    "              [500, 700, 750, 600, 1450, 800, 1500, 2000, 450, 1000],\n",
    "              [1, 1, 2, 1, 2, 1, 3, 3, 1, 2]])\n",
    "\n",
    "X_norm = np.vstack([X[0],norm(X[1:])])\n",
    "X_stand = np.vstack([X[0],stand(X[1:])])\n",
    "\n",
    "# данные для построения регрессионной модели\n",
    "#y = np.array([45, 55, 50, 59, 65, 35, 75, 80, 50, 60])\n",
    "\n",
    "# данные для построения моедели классификаци\n",
    "y = np.array([0, 0, 1, 0, 1, 0, 1, 0, 1, 1])"
   ]
  },
  {
   "cell_type": "code",
   "execution_count": 4,
   "metadata": {},
   "outputs": [],
   "source": [
    "class LogisticRegressionModel:\n",
    "    def __init__(self, X=[[1], [1]], y=[1], alpha=0.01, tolerance=1e-05, check_fr=10000, L2=0, L1=0, n_batch=1, X0=True, metric='MSE'):\n",
    "        self.X0 = X0\n",
    "        self.X_train = np.array(X) if X0 else p.vstack([np.ones(X.shape[1]), np.array(X)])\n",
    "        self.W_pred = np.ones(self.X_train.shape[0])\n",
    "        self.y_train = y\n",
    "        self.alpha = alpha\n",
    "        self.tolerance = tolerance\n",
    "        self.check_fr = check_fr\n",
    "        self.L2 = L2\n",
    "        self.L1 = L1\n",
    "        self.metric = metric\n",
    "        self.n_batch = n_batch # возможность стахастического градиентного бустинга пока не реализована\n",
    "        \n",
    "        self.fit(self.X_train, self.y_train)\n",
    "    \n",
    "    def sigmoid(self, z):\n",
    "        return 1/(np.exp(-z)+1)\n",
    "    \n",
    "    def fit(self, X, y):\n",
    "        self.X_train = np.array(X) if self.X0 else p.vstack([np.ones(X.shape[1]), np.array(X)])\n",
    "        self.y_train = y\n",
    "        # Log loss функция оценки качества классификации\n",
    "        log_loss = lambda y, y_pred: -np.mean(y * np.log(y_pred + 1e-20) + (1 - y) * np.log(-y_pred+1 + 1e-20))\n",
    "        # Сренеквадраичное отколонение\n",
    "        mse_err = lambda y, y_pred: np.mean((y - y_pred) ** 2)\n",
    "        \n",
    "        i, n,  = 0, len(y)\n",
    "        err_prev, err_last = 3 * self.tolerance, self.tolerance\n",
    "        W_pred = np.ones(X.shape[0])\n",
    "        \n",
    "        while err_prev - err_last > self.tolerance:\n",
    "            i += 1\n",
    "            if i % self.check_fr == 0: \n",
    "                err_prev = err_last\n",
    "            # расчет градиента\n",
    "            Wg = 2 / n * (W_pred @ X - y) @ X.T \n",
    "            # Добавление l2 регуяризации\n",
    "            Wg += self.L2 * W_pred\n",
    "            # Добавление l1 регуяризации\n",
    "            Wg += self.L1 * np.sign(W_pred)    \n",
    "            W_pred -= self.alpha * Wg\n",
    "            \n",
    "            if i % self.check_fr == 0:\n",
    "                if self.metric == 'MSE':\n",
    "                    err_last = mse_err(W_pred @ X, y)\n",
    "                elif self.metric == 'logloss':\n",
    "                    err_last = log_loss(y, self.sigmoid(W_pred @ X))\n",
    "        \n",
    "        self.W_pred = W_pred\n",
    "    \n",
    "    def coef_ (self):\n",
    "        return self.W_pred\n",
    "    \n",
    "    def predict(self, X, true_point=0.5):\n",
    "        return (self.sigmoid(self.W_pred @ X - 0.5) > true_point).astype('int')\n",
    "    \n",
    "    def predict_linear(self, X):\n",
    "        return self.W_pred @ X\n",
    "    \n",
    "    def predict_proba(self, X):\n",
    "        return self.sigmoid(self.W_pred @ X - 0.5)"
   ]
  },
  {
   "cell_type": "markdown",
   "metadata": {},
   "source": [
    "# САМОСТОЯТЕЛЬНАЯ РАБОТА"
   ]
  },
  {
   "cell_type": "markdown",
   "metadata": {},
   "source": [
    "### *3.1. Измените функцию calc_logloss так, чтобы нули по возможности не попадали в np.log.  "
   ]
  },
  {
   "cell_type": "markdown",
   "metadata": {},
   "source": [
    "Добавлена ненулевая компанента 1e-20. Сама по себе не оказывает существенного влияние на расчет но вероятность получить ошибку практически сводится к нулю\n",
    "\n"
   ]
  },
  {
   "cell_type": "code",
   "execution_count": 5,
   "metadata": {},
   "outputs": [],
   "source": [
    "log_loss = lambda y, y_pred: sum(-(y * np.log(y_pred+1e-20) + (1 - y) * np.log(-y_pred+1+1e-20)) / len(y))"
   ]
  },
  {
   "cell_type": "markdown",
   "metadata": {},
   "source": [
    "### 3.2. Подберите аргументы функции eval_model для логистической регрессии таким образом, чтобы log loss был минимальным."
   ]
  },
  {
   "cell_type": "markdown",
   "metadata": {},
   "source": [
    "Сделал функцию, в которой шаг изменение ошибки задается как параметр для остановки. При alpha = 0.01 результат Log_loss оптимальный. Как эталонный Log_Loss взял результат работы МНК. Отличие было только в 14-м знаке"
   ]
  },
  {
   "cell_type": "code",
   "execution_count": 6,
   "metadata": {},
   "outputs": [
    {
     "name": "stdout",
     "output_type": "stream",
     "text": [
      "Расчет метоом градиентноо бустинга:\n",
      "Веса признаков:  [ 0.5        -0.52314071 -0.2099946   0.82892734] \n",
      "LogLoss модели: 0.5640556174556499\n",
      "Предсказания:  [0 0 1 0 1 0 1 0 0 1] \n",
      "Факт:          [0 0 1 0 1 0 1 0 1 1]\n",
      "Wall time: 132 ms\n"
     ]
    }
   ],
   "source": [
    "%%time\n",
    "model_lr = LogisticRegressionModel(X=X_stand, y=y, alpha=0.01, tolerance=1e-5, metric='LogLoss')\n",
    "W_pred = model_lr.coef_()\n",
    "print('Расчет метоом градиентноо бустинга:\\nВеса признаков: ', W_pred, '\\nLogLoss модели:', log_loss(y, sigmoid(W_pred @ X_stand -0.5)))\n",
    "print('Предсказания: ', ((sigmoid(W_pred @ X_stand - 0.5)) > 0.5).astype('int'), '\\nФакт:         ', y)"
   ]
  },
  {
   "cell_type": "code",
   "execution_count": 7,
   "metadata": {},
   "outputs": [
    {
     "name": "stdout",
     "output_type": "stream",
     "text": [
      "Метод Наименьших Квадратов:\n",
      "Веса признаков:  [ 0.5        -0.52314071 -0.2099946   0.82892735] \n",
      "LogLoss модели: 0.5640556174266063\n",
      "Wall time: 998 µs\n"
     ]
    }
   ],
   "source": [
    "%%time\n",
    "#Метод наименьших квадратов\n",
    "W_mnk = np.linalg.inv(np.dot(X_stand, X_stand.T)) @ X_stand @ y\n",
    "print('Метод Наименьших Квадратов:\\nВеса признаков: ', W_mnk, '\\nLogLoss модели:', log_loss(y, sigmoid(W_mnk @ X_stand - 0.5)))\n",
    "\n",
    "### 3.3. Создайте функцию calc_pred_proba, возвращающую предсказанную вероятность класса 1 (на вход подаются W, который уже посчитан функцией eval_model и X, на выходе - массив y_pred_proba)."
   ]
  },
  {
   "cell_type": "code",
   "execution_count": 8,
   "metadata": {},
   "outputs": [
    {
     "data": {
      "text/plain": [
       "array([ 0.5       , -0.52314071, -0.2099946 ,  0.82892734])"
      ]
     },
     "execution_count": 8,
     "metadata": {},
     "output_type": "execute_result"
    }
   ],
   "source": [
    "# Реализовал в виде класса модели - похоже на то как это сделано в sklearn\n",
    "model_lr = LogisticRegressionModel(X=X_stand, y=y, alpha=0.01)\n",
    "model_lr.coef_()"
   ]
  },
  {
   "cell_type": "code",
   "execution_count": 9,
   "metadata": {},
   "outputs": [
    {
     "data": {
      "text/plain": [
       "array([0.44070858, 0.41948182, 0.62900305, 0.43006306, 0.50948808,\n",
       "       0.45478089, 0.66906608, 0.39013352, 0.4460525 , 0.60340539])"
      ]
     },
     "execution_count": 9,
     "metadata": {},
     "output_type": "execute_result"
    }
   ],
   "source": [
    "model_lr.predict_proba(X_stand)"
   ]
  },
  {
   "cell_type": "markdown",
   "metadata": {},
   "source": [
    "### 3.4. Создайте функцию calc_pred, возвращающую предсказанный класс (на вход подаются W, который уже посчитан функцией eval_model и X, на выходе - массив y_pred).\n"
   ]
  },
  {
   "cell_type": "code",
   "execution_count": 10,
   "metadata": {},
   "outputs": [
    {
     "data": {
      "text/plain": [
       "array([ 0.5       , -0.52314071, -0.2099946 ,  0.82892734])"
      ]
     },
     "execution_count": 10,
     "metadata": {},
     "output_type": "execute_result"
    }
   ],
   "source": [
    "# Реализовал в виде класса модели - похоже на то как это сделано в sklearn. \n",
    "model_lr = LogisticRegressionModel(X=X_stand, y=y, alpha=0.01)\n",
    "model_lr.coef_()"
   ]
  },
  {
   "cell_type": "code",
   "execution_count": 11,
   "metadata": {},
   "outputs": [
    {
     "data": {
      "text/plain": [
       "array([0, 0, 1, 0, 1, 0, 1, 0, 0, 1])"
      ]
     },
     "execution_count": 11,
     "metadata": {},
     "output_type": "execute_result"
    }
   ],
   "source": [
    "model_lr.predict(X_stand)"
   ]
  },
  {
   "cell_type": "markdown",
   "metadata": {},
   "source": [
    "### 3.5. Посчитайте Accuracy, матрицу ошибок, точность и полноту, а также F1 score."
   ]
  },
  {
   "cell_type": "code",
   "execution_count": 12,
   "metadata": {},
   "outputs": [],
   "source": [
    "class ClassificationScore():\n",
    "    def __init__(self, y_true, y_pred):\n",
    "        df = pd.DataFrame({'True class':y_true, 'y_pred':y_pred})  \n",
    "        \n",
    "        for i in df['True class'].value_counts().index: \n",
    "            df[i] = (df['y_pred'] == i).astype('int')\n",
    "        self.df = df\n",
    "    \n",
    "    def accuracy(self):\n",
    "        return self.df.loc[self.df['True class'] == self.df['y_pred']].shape[0] /  self.df.shape[0]\n",
    "    \n",
    "    def recall(self, cl=1):\n",
    "        tp = self.df.loc[(self.df['y_pred'] == cl) & (self.df['y_pred'] == self.df['True class'])].shape[0]\n",
    "        fn = self.df.loc[(self.df['True class'] == cl) & (self.df['y_pred'] != self.df['True class'])].shape[0]\n",
    "        return tp / (tp + fn)\n",
    "    \n",
    "    def precission(self, cl=1):\n",
    "        tp = self.df.loc[(self.df['y_pred'] == cl) & (self.df['y_pred'] == self.df['True class'])].shape[0]\n",
    "        fp = self.df.loc[(self.df['y_pred'] == cl) & (self.df['y_pred'] != self.df['True class'])].shape[0]\n",
    "        return tp / (tp + fp)\n",
    "    \n",
    "    def f1(self, cl=1):\n",
    "        return 2 * self.recall(cl=cl) * self.precission(cl=cl) / (self.recall(cl=cl) + self.precission(cl=cl))\n",
    "        \n",
    "    def confusion_matrix(self):\n",
    "        col_lst = [i for i in self.df['True class'].value_counts().index]\n",
    "        col_lst.sort()\n",
    "        return self.df.groupby(by='True class').agg({i:sum for i in col_lst})\n",
    "    \n",
    "    def roc_auc(self):\n",
    "        return '?.????' # нужнеа дороботка\n",
    "    \n",
    "    def pr_auc(self):\n",
    "        return '?.????' # нужнеа дороботка\n",
    "    \n",
    "    def report(self):\n",
    "        print('CLASSIFICATION SCORES REPORT\\n\\n' + 'Accuracy:  ', round(self.accuracy(), 4), '\\n')\n",
    "        print('{:<6}{:>8}{:>12}{:>9}'.format('Class','Recall','Precission','f1'))\n",
    "        \n",
    "        for i in self.df['True class'].value_counts().index:\n",
    "            print('{:<6}{:>8}{:>12}{:>9}'.format(i, round(self.recall(i), 4),round(self.precission(i),4), round(self.f1(i),4)))\n",
    "        \n",
    "        print('\\nConfusion matrix:')\n",
    "        print(self.confusion_matrix())"
   ]
  },
  {
   "cell_type": "code",
   "execution_count": 13,
   "metadata": {},
   "outputs": [
    {
     "name": "stdout",
     "output_type": "stream",
     "text": [
      "CLASSIFICATION SCORES REPORT\n",
      "\n",
      "Accuracy:   0.9 \n",
      "\n",
      "Class   Recall  Precission       f1\n",
      "1          0.8         1.0   0.8889\n",
      "0          1.0      0.8333   0.9091\n",
      "\n",
      "Confusion matrix:\n",
      "            0  1\n",
      "True class      \n",
      "0           5  0\n",
      "1           1  4\n"
     ]
    }
   ],
   "source": [
    "y_pred = model_lr.predict(X_stand)\n",
    "ClassificationScore(y, y_pred).report()"
   ]
  },
  {
   "cell_type": "markdown",
   "metadata": {},
   "source": [
    "### 3.6. Могла ли модель переобучиться? Почему?"
   ]
  },
  {
   "cell_type": "markdown",
   "metadata": {},
   "source": [
    "Модель по сути является моделью линейной регрессии. Поэтому ей свойствены и минусы такой модели - переобучения признаков с небольшими весами на зашумленных данных и, возможно, большие коэффициенты при скорелированных между собой признаках"
   ]
  },
  {
   "cell_type": "markdown",
   "metadata": {},
   "source": [
    "### *3.7 Создайте функции eval_model_l1 и eval_model_l2 с применением L1 и L2 регуляризаций соответственно."
   ]
  },
  {
   "cell_type": "code",
   "execution_count": 14,
   "metadata": {},
   "outputs": [
    {
     "data": {
      "image/png": "[encoded data removed]",
      "text/plain": [
       "<Figure size 1080x720 with 1 Axes>"
      ]
     },
     "metadata": {
      "needs_background": "light"
     },
     "output_type": "display_data"
    },
    {
     "name": "stdout",
     "output_type": "stream",
     "text": [
      "Wall time: 25.4 s\n"
     ]
    }
   ],
   "source": [
    "%%time\n",
    "#Зависимость коэфициентов при прихнаках от L1\n",
    "\n",
    "L1_plot_data = pd.DataFrame(columns=['L1']+['W'+str(i) for i in range(X.shape[0])] + ['MSE'])\n",
    "\n",
    "for i in np.linspace(0, 1.1, 201):\n",
    "    W_pred = LogisticRegressionModel(X_stand, y, alpha=0.01, L1=i).coef_()\n",
    "    L1_plot_data.loc[L1_plot_data.shape[0]] = [i] + list(W_pred) + [mse_err(X_stand.T @ W_pred, y)]\n",
    "\n",
    "plt.figure(figsize=(15,10))\n",
    "for col in L1_plot_data.loc[:,'W0':'W3']:\n",
    "    plt.plot(L1_plot_data['L1'], L1_plot_data[col], label=col)\n",
    "\n",
    "plt.legend()\n",
    "plt.show()"
   ]
  },
  {
   "cell_type": "code",
   "execution_count": 15,
   "metadata": {},
   "outputs": [
    {
     "data": {
      "image/png": "[encoded data removed]",
      "text/plain": [
       "<Figure size 1080x720 with 1 Axes>"
      ]
     },
     "metadata": {
      "needs_background": "light"
     },
     "output_type": "display_data"
    },
    {
     "name": "stdout",
     "output_type": "stream",
     "text": [
      "Wall time: 25.9 s\n"
     ]
    }
   ],
   "source": [
    "%%time\n",
    "#Зависимость коэфициентов от L2\n",
    "L2_plot_data = pd.DataFrame(columns=['L2']+['W'+str(i) for i in range(X.shape[0])] + ['MSE'])\n",
    "\n",
    "for i in np.linspace(0, 10, 201):\n",
    "    W_pred = LogisticRegressionModel(X_stand, y, alpha=0.01, L2=i).coef_()\n",
    "    L2_plot_data.loc[L2_plot_data.shape[0]] = [i] + list(W_pred) + [mse_err(X_stand.T @ W_pred, y)]\n",
    "\n",
    "plt.figure(figsize=(15,10))\n",
    "for col in L2_plot_data.loc[:,'W0':'W3']:\n",
    "    plt.plot(L2_plot_data['L2'], L2_plot_data[col], label=col)\n",
    "\n",
    "plt.legend()\n",
    "plt.show()"
   ]
  },
  {
   "cell_type": "code",
   "execution_count": null,
   "metadata": {},
   "outputs": [],
   "source": []
  },
  {
   "cell_type": "code",
   "execution_count": null,
   "metadata": {},
   "outputs": [],
   "source": []
  },
  {
   "cell_type": "code",
   "execution_count": null,
   "metadata": {},
   "outputs": [],
   "source": []
  },
  {
   "cell_type": "code",
   "execution_count": null,
   "metadata": {},
   "outputs": [],
   "source": []
  },
  {
   "cell_type": "code",
   "execution_count": null,
   "metadata": {},
   "outputs": [],
   "source": []
  },
  {
   "cell_type": "code",
   "execution_count": null,
   "metadata": {},
   "outputs": [],
   "source": []
  },
  {
   "cell_type": "code",
   "execution_count": null,
   "metadata": {},
   "outputs": [],
   "source": []
  },
  {
   "cell_type": "code",
   "execution_count": null,
   "metadata": {},
   "outputs": [],
   "source": []
  },
  {
   "cell_type": "code",
   "execution_count": null,
   "metadata": {},
   "outputs": [],
   "source": []
  },
  {
   "cell_type": "markdown",
   "metadata": {},
   "source": [
    "### Задание 2.1. Построение зависимости W от коэффициента L1"
   ]
  },
  {
   "cell_type": "code",
   "execution_count": null,
   "metadata": {},
   "outputs": [],
   "source": [
    "%%time\n",
    "#Зависимость коэфициентов от L2\n",
    "L2_plot_data = pd.DataFrame(columns=['L2']+['W'+str(i) for i in range(X.shape[0])] + ['MSE'])\n",
    "\n",
    "for i in np.linspace(0, 10, 201):\n",
    "    W_pred = LogisticRegressionModel(X_stand, y, alpha=0.01, L2=i).coef_()\n",
    "    L2_plot_data.loc[L2_plot_data.shape[0]] = [i] + list(W_pred) + [mse_err(X_stand.T @ W_pred, y)]\n",
    "\n",
    "plt.figure(figsize=(15,10))\n",
    "for col in L2_plot_data.loc[:,'W0':'W3']:\n",
    "    plt.plot(L2_plot_data['L2'], L2_plot_data[col], label=col)\n",
    "\n",
    "plt.legend()\n",
    "plt.show()"
   ]
  },
  {
   "cell_type": "code",
   "execution_count": null,
   "metadata": {},
   "outputs": [],
   "source": [
    "%%time\n",
    "#Зависимость коэфициентов при прихнаках от L1\n",
    "\n",
    "L1_plot_data = pd.DataFrame(columns=['L1']+['W'+str(i) for i in range(X.shape[0])] + ['MSE'])\n",
    "\n",
    "for i in np.linspace(0, 1.1, 201):\n",
    "    W_pred = LogisticRegressionModel(X_stand, y, alpha=0.01, L1=i).coef_()\n",
    "    L1_plot_data.loc[L1_plot_data.shape[0]] = [i] + list(W_pred) + [mse_err(X_stand.T @ W_pred, y)]\n",
    "\n",
    "plt.figure(figsize=(15,10))\n",
    "for col in L1_plot_data.loc[:,'W0':'W3']:\n",
    "    plt.plot(L1_plot_data['L1'], L1_plot_data[col], label=col)\n",
    "\n",
    "plt.legend()\n",
    "plt.show()"
   ]
  },
  {
   "cell_type": "markdown",
   "metadata": {},
   "source": [
    "### Задание 2.2 Можно ли к одному и тому же признаку применить сразу и нормализацию, и стандартизацию?\n",
    "\n",
    "\n",
    "\n"
   ]
  },
  {
   "cell_type": "markdown",
   "metadata": {},
   "source": [
    "Применение стандартизации и нормализации одновременно не имеет смысла т.к. нормализация подразумеевает приведение к диапазону от 0-1, а стандартизация центрирует признаки вокруг нуля как в плюс так и в минус"
   ]
  },
  {
   "cell_type": "markdown",
   "metadata": {},
   "source": [
    "### Задание 2.3 Реализовать L1 регуляризацию"
   ]
  },
  {
   "cell_type": "code",
   "execution_count": null,
   "metadata": {},
   "outputs": [],
   "source": [
    "def gradient_boosting(X, y, alpha=0.01, tolerance=1e-5, check_fr=10000, L2=1e-4, L1=1e-4):\n",
    "    \n",
    "    W_pred = np.ones(X.shape[0])\n",
    "    i, n,  = 0, len(y)\n",
    "    mse_prev, mse_last = 3 * tolerance, tolerance\n",
    "    \n",
    "    while mse_prev - mse_last > tolerance:\n",
    "        i += 1\n",
    "        if i % check_fr == 0: mse_prev = mse_last\n",
    "        # расчет градиента\n",
    "        Wg = 2 / n * (W_pred @ X - y) @ X.T \n",
    "        # Добавление l2 регуяризации\n",
    "        Wg += L2 * W_pred\n",
    "        # Добавление l1 регуяризации\n",
    "        Wg += L1 * np.sign(W_pred)\n",
    "        W_pred -= alpha * Wg\n",
    "        \n",
    "        if i % check_fr == 0:\n",
    "            mse_last = mse_err(X.T @ W_pred, y)\n",
    "\n",
    "    #print('Кол-во итераций:', i, '\\nВеса признаков: ', W_pred, '\\nMSE модели:', mse_err(X.T @ W_pred, y))\n",
    "    return W_pred"
   ]
  },
  {
   "cell_type": "markdown",
   "metadata": {},
   "source": [
    "## Наработки"
   ]
  },
  {
   "cell_type": "code",
   "execution_count": null,
   "metadata": {},
   "outputs": [],
   "source": [
    "%%time\n",
    "#Метод наименьших квадратов\n",
    "W_mnk = np.linalg.inv(np.dot(X_stand, X_stand.T)) @ X_stand @ y\n",
    "W_mnk, mse_err(X_stand.T @ W_mnk, y)\n",
    "print('\\nВеса признаков: ', W_mnk, '\\nMSE модели:', mse_err(X_stand.T @ W_mnk, y))"
   ]
  },
  {
   "cell_type": "code",
   "execution_count": null,
   "metadata": {},
   "outputs": [],
   "source": [
    "#Генерация данных для построения модели на базе известной зависимости\n",
    "def data_generation(x_size=200, W=np.array([-20,-10, 0.5])):\n",
    "    x0 = np.ones(x_size+1)\n",
    "    x1 = np.linspace(0, 0.1 * x_size , x_size+1)\n",
    "    x2 = x1**2\n",
    "    X = np.vstack([x0,x1,x2])\n",
    "    y = np.array([int(random.gauss(0, 10)) + i for i in np.dot(W, X)])\n",
    "    return W, X, y"
   ]
  },
  {
   "cell_type": "code",
   "execution_count": null,
   "metadata": {},
   "outputs": [],
   "source": [
    "#Графическое отображение данных\n",
    "W, X, y = data_generation()\n",
    "X_norm = np.vstack([X[0],norm(X[1:])])\n",
    "X_stand = np.vstack([X[0],stand(X[1:])])\n",
    "\n",
    "plt.figure(figsize=(10,10))\n",
    "plt.scatter(np.linspace(0, 0.1 * 200 , 201), y, label='Зашумленные Наблюдения', c='b')\n",
    "plt.plot(np.linspace(0, 0.1 * 200 , 201), X.T @ W, label='Незашумленные данные', c='g')\n",
    "plt.legend()"
   ]
  },
  {
   "cell_type": "code",
   "execution_count": null,
   "metadata": {},
   "outputs": [],
   "source": [
    "#Графическое отображение результата работы модели\n",
    "\n",
    "W_pred = gradient_boosting(X_stand, y, alpha=0.0001)\n",
    "\n",
    "plt.figure(figsize=(10,10))\n",
    "\n",
    "plt.scatter(x1, y, label='Наблюдения', c='b')\n",
    "plt.plot(x1, X.T @ W, label='Незашумленные данные, MSE ' + str(round(mse_err(X.T @ W, y),4)), c='g')\n",
    "plt.plot(x1, X_stand.T @ W_pred, label='Прогноз методом градиентного бустинга, MSE ' + str(round(mse_err(X.T @ W_pred, y),4)), c='r')\n",
    "plt.plot(x1, X.T @ W_mnk, label='Прогноз методом наименьших квадратов, MSE ' + str(round(mse_err(X.T @ W_mnk, y),4)), c='y')\n",
    "plt.legend()\n",
    "plt.show()"
   ]
  },
  {
   "cell_type": "code",
   "execution_count": null,
   "metadata": {},
   "outputs": [],
   "source": [
    "def log_regression(X, y, alpha=0.01, tolerance=1e-10, check_fr=1000, L2=0, L1=0):\n",
    "    \n",
    "    W_pred = np.ones(X.shape[0])\n",
    "    i, n,  = 0, len(y)\n",
    "    log_los_prev, log_los_last = 3 * tolerance, tolerance\n",
    "    \n",
    "    while abs(log_los_prev - log_los_last) > tolerance:\n",
    "        i += 1\n",
    "        if i % check_fr == 0: \n",
    "            log_los_prev = log_los_last\n",
    "        # расчет градиента\n",
    "        Wg = 2 / n * (W_pred @ X - y) @ X.T \n",
    "        # Добавление l2 регуяризации\n",
    "        Wg += L2 * W_pred\n",
    "        # Добавление l1 регуяризации\n",
    "        Wg += L1 * np.sign(W_pred)\n",
    "        W_pred -= alpha * Wg\n",
    "        \n",
    "        if i % check_fr == 0:\n",
    "            log_los_last = log_loss(y, sigmoid(W_pred @ X-0.5))\n",
    "            \n",
    "    return W_pred"
   ]
  },
  {
   "cell_type": "code",
   "execution_count": null,
   "metadata": {},
   "outputs": [],
   "source": [
    "def gradient_boosting(X, y, alpha=0.01, tolerance=1e-5, check_fr=10000, L2=0, L1=0):\n",
    "    \n",
    "    W_pred = np.ones(X.shape[0])\n",
    "    i, n,  = 0, len(y)\n",
    "    mse_prev, mse_last = 3 * tolerance, tolerance\n",
    "    \n",
    "    while mse_prev - mse_last > tolerance:\n",
    "        i += 1\n",
    "        if i % check_fr == 0: mse_prev = mse_last\n",
    "        # расчет градиента\n",
    "        Wg = 2 / n * (W_pred @ X - y) @ X.T \n",
    "        # Добавление l2 регуяризации\n",
    "        Wg += L2 * W_pred\n",
    "        # Добавление l1 регуяризации\n",
    "        Wg += L1 * np.sign(W_pred)\n",
    "        W_pred -= alpha * Wg\n",
    "        \n",
    "        if i % check_fr == 0:\n",
    "            mse_last = mse_err(X.T @ W_pred, y)\n",
    "    \n",
    "    return W_pred"
   ]
  },
  {
   "cell_type": "code",
   "execution_count": null,
   "metadata": {},
   "outputs": [],
   "source": [
    "def s_gradient_boosting(X, y, qty_in_batch=5, alpha=0.01, tolerance=1e-5, L2=0, L1=0, check_fr=1000):\n",
    "    \n",
    "    W_pred = np.ones(X.shape[0])\n",
    "    i, n, iter_improve = 0, len(y), 1\n",
    "    mse_prev, mse_last = 1, 0\n",
    "    \n",
    "    n_batch = (n // qty_in_batch + 1) if (n % qty_in_batch) else (n // qty_in_batch)\n",
    "    print (n_batch)\n",
    "    while (mse_prev - mse_last) > tolerance:\n",
    "        i += 1\n",
    "        if i % check_fr == 0:\n",
    "            mse_prev = mse_last\n",
    "        for b in range(n_batch):\n",
    "            start_ = qty_in_batch * b\n",
    "            end_ = qty_in_batch * (b + 1)\n",
    "            X_tmp = X[:, start_:end_]\n",
    "            y_tmp = y[start_:end_]\n",
    "            Wg = 2 / n * (W_pred @ X_tmp - y_tmp) @ X_tmp.T\n",
    "            Wg += L2 * W_pred\n",
    "            Wg += L1 * np.sign(W_pred)            \n",
    "            W_pred -= alpha * Wg\n",
    "        \n",
    "        if i % check_fr == 0:\n",
    "            mse_last = mse_err(W_pred @ X_tmp, y_tmp)\n",
    "    \n",
    "    #print('Кол-во итераций:', i, '\\nВеса признаков: ', W_pred, '\\nMSE модели:', mse_err(X.T @ W_pred, y))\n",
    "    return W_pred"
   ]
  }
 ],
 "metadata": {
  "kernelspec": {
   "display_name": "Python 3",
   "language": "python",
   "name": "python3"
  },
  "language_info": {
   "codemirror_mode": {
    "name": "ipython",
    "version": 3
   },
   "file_extension": ".py",
   "mimetype": "text/x-python",
   "name": "python",
   "nbconvert_exporter": "python",
   "pygments_lexer": "ipython3",
   "version": "3.7.1"
  }
 },
 "nbformat": 4,
 "nbformat_minor": 2
}
