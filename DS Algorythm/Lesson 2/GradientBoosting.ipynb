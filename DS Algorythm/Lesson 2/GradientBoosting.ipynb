{
 "cells": [
  {
   "cell_type": "code",
   "execution_count": 10,
   "metadata": {},
   "outputs": [],
   "source": [
    "import numpy as np\n",
    "import pandas as pd\n",
    "import random\n",
    "import matplotlib.pyplot as plt"
   ]
  },
  {
   "cell_type": "code",
   "execution_count": null,
   "metadata": {},
   "outputs": [],
   "source": [
    "#Генерация данных для построения модели на базе известной зависимости\n",
    "def data_generation(x_size=200, W=np.array([-20,-10, 0.5])):\n",
    "    x0 = np.ones(x_size+1)\n",
    "    x1 = np.linspace(0, 0.1 * x_size , x_size+1)\n",
    "    x2 = x1**2\n",
    "    X = np.vstack([x0,x1,x2])\n",
    "    y = np.array([int(random.gauss(0, 10)) + i for i in np.dot(W, X)])\n",
    "    \n",
    "    return W, X, y\n",
    "\n",
    "W, X, y = data_generation()\n",
    "#Графическое отображение данных\n",
    "plt.figure(figsize=(10,10))\n",
    "plt.scatter(np.linspace(0, 0.1 * 200 , 201), y, label='Зашумленные Наблюдения', c='b')\n",
    "plt.plot(np.linspace(0, 0.1 * 200 , 201), X.T @ W, label='Незашумленные данные', c='g')\n",
    "plt.legend()"
   ]
  },
  {
   "cell_type": "code",
   "execution_count": 686,
   "metadata": {},
   "outputs": [],
   "source": [
    "# Сренеквадраичное отколонение\n",
    "mse_err = lambda y, y_pred : sum((y - y_pred) ** 2) / len(y)\n",
    "#Нормализация\n",
    "norm = lambda ar: np.array([[(j - i.min())/i.max() for j in i] for i in ar])\n",
    "#Стандартизация\n",
    "stand = lambda ar: np.array([(i - i.mean())/i.std() for i in ar])"
   ]
  },
  {
   "cell_type": "code",
   "execution_count": 850,
   "metadata": {},
   "outputs": [],
   "source": [
    "#Данные урока\n",
    "\n",
    "X = np.array([[1, 1, 1, 1, 1, 1, 1, 1, 1, 1],\n",
    "              [1, 1, 2, 1, 3, 0, 5, 10, 1, 2],\n",
    "              [500, 700, 750, 600, 1450, 800, 1500, 2000, 450, 1000],\n",
    "              [1, 1, 2, 1, 2, 1, 3, 3, 1, 2]])\n",
    "\n",
    "y = np.array([45, 55, 50, 59, 65, 35, 75, 80, 50, 60])\n"
   ]
  },
  {
   "cell_type": "code",
   "execution_count": 851,
   "metadata": {},
   "outputs": [],
   "source": [
    "X_norm = np.vstack([X[0],norm(X[1:])])\n",
    "X_stand = np.vstack([X[0],stand(X[1:])])"
   ]
  },
  {
   "cell_type": "code",
   "execution_count": 852,
   "metadata": {},
   "outputs": [],
   "source": [
    "def gradient_boosting(X, y, alpha=0.01, tolerance=1e-5, check_fr=10000, L2=1e-4, L1=0):\n",
    "    \n",
    "    W_pred = np.ones(X.shape[0])\n",
    "    i, n,  = 0, len(y)\n",
    "    mse_prev, mse_last = 3 * tolerance, tolerance\n",
    "    \n",
    "    while mse_prev - mse_last > tolerance:\n",
    "        i += 1\n",
    "        if i % check_fr == 0: mse_prev = mse_last\n",
    "        # расчет градиента\n",
    "        Wg = 2 / n * (W_pred @ X - y) @ X.T \n",
    "        # Добавление l2 регуяризации\n",
    "        Wg += L2 * np.sum(W_pred)\n",
    "        # Добавление l1 регуяризации\n",
    "        Wg += L1 * np.sum(W_pred)\n",
    "        W_pred -= alpha * Wg\n",
    "        \n",
    "        if i % check_fr == 0:\n",
    "            mse_last = mse_err(X.T @ W_pred, y)\n",
    "\n",
    "    #print('Кол-во итераций:', i, '\\nВеса признаков: ', W_pred, '\\nMSE модели:', mse_err(X.T @ W_pred, y))\n",
    "    return W_pred"
   ]
  },
  {
   "cell_type": "code",
   "execution_count": 853,
   "metadata": {},
   "outputs": [],
   "source": [
    "def s_gradient_boosting(X, y, qty_in_batch=5, alpha=0.01, tolerance=1e-5, L2=1e-4, L1=0, check_fr=1000):\n",
    "    \n",
    "    W_pred = np.ones(X.shape[0])\n",
    "    i, n, iter_improve = 0, len(y), 1\n",
    "    mse_prev, mse_last = 1, 0\n",
    "    \n",
    "    n_batch = (n // qty_in_batch + 1) if (n % qty_in_batch) else (n // qty_in_batch)\n",
    "    print (n_batch)\n",
    "    while (mse_prev - mse_last) > tolerance:\n",
    "        i += 1\n",
    "        if i % check_fr == 0:\n",
    "            mse_prev = mse_last\n",
    "        for b in range(n_batch):\n",
    "            start_ = qty_in_batch * b\n",
    "            end_ = qty_in_batch * (b + 1)\n",
    "            X_tmp = X[:, start_:end_]\n",
    "            y_tmp = y[start_:end_]\n",
    "            Wg = 2 / n * (W_pred @ X_tmp - y_tmp) @ X_tmp.T\n",
    "            Wg += L2 * np.sum(W_pred)\n",
    "            W_pred -= alpha * Wg\n",
    "        \n",
    "        if i % check_fr == 0:\n",
    "            mse_last = mse_err(W_pred @ X_tmp, y_tmp)\n",
    "            #print(i, W_pred, mse_err(W_pred @ X_tmp, y_tmp))\n",
    "    \n",
    "    print('Кол-во итераций:', i, '\\nВеса признаков: ', W_pred, '\\nMSE модели:', mse_err(X.T @ W_pred, y))\n",
    "    return W_pred"
   ]
  },
  {
   "cell_type": "markdown",
   "metadata": {},
   "source": [
    "# Задание 2.1. Построение зависимости W от коэффициента L2"
   ]
  },
  {
   "cell_type": "code",
   "execution_count": 910,
   "metadata": {},
   "outputs": [
    {
     "name": "stdout",
     "output_type": "stream",
     "text": [
      "Wall time: 1min 44s\n"
     ]
    }
   ],
   "source": [
    "%%time\n",
    "\n",
    "L2_plot_data = pd.DataFrame(columns=['L2']+['W'+str(i) for i in range(X.shape[0])])\n",
    "    \n",
    "for i in np.linspace(0, 1, 501):\n",
    "    L2_plot_data.loc[L2_plot_data.shape[0]] = [i] + list(gradient_boosting(X_stand, y, alpha=0.01, L2=i))"
   ]
  },
  {
   "cell_type": "code",
   "execution_count": 911,
   "metadata": {},
   "outputs": [
    {
     "data": {
      "image/png": "[encoded data removed]",
      "text/plain": [
       "<Figure size 720x720 with 1 Axes>"
      ]
     },
     "metadata": {
      "needs_background": "light"
     },
     "output_type": "display_data"
    }
   ],
   "source": [
    "\n",
    "\n",
    "plt.figure(figsize=(10,10))\n",
    "for col in L2_plot_data.loc[:,'W0':]:\n",
    "    plt.plot(L2_plot_data['L2'], L2_plot_data[col], label=col)\n",
    "\n",
    "plt.legend()\n",
    "plt.show()\n"
   ]
  },
  {
   "cell_type": "markdown",
   "metadata": {},
   "source": [
    "# Задание 2.2 \n",
    "## Можно ли к одному и тому же признаку применить сразу и нормализацию, и стандартизацию?\n",
    "\n",
    "\n",
    "\n"
   ]
  },
  {
   "cell_type": "code",
   "execution_count": null,
   "metadata": {},
   "outputs": [],
   "source": [
    "Применение стандартизации и нормализации одновременно не имеет смысла т.к. нормализация подразумеевает приведение к диапазону от 0-1, а стандартизация центрирует признаки вокруг нуля как в плюс так и в минус"
   ]
  },
  {
   "cell_type": "markdown",
   "metadata": {},
   "source": [
    "# Задание 2.3\n",
    "## Реализовать L1 регуляризацию"
   ]
  },
  {
   "cell_type": "code",
   "execution_count": 913,
   "metadata": {},
   "outputs": [],
   "source": [
    "def gradient_boosting(X, y, alpha=0.01, tolerance=1e-5, check_fr=10000, L2=1e-4, L1=1e-4):\n",
    "    \n",
    "    W_pred = np.ones(X.shape[0])\n",
    "    i, n,  = 0, len(y)\n",
    "    mse_prev, mse_last = 3 * tolerance, tolerance\n",
    "    \n",
    "    while mse_prev - mse_last > tolerance:\n",
    "        i += 1\n",
    "        if i % check_fr == 0: mse_prev = mse_last\n",
    "        # расчет градиента\n",
    "        Wg = 2 / n * (W_pred @ X - y) @ X.T \n",
    "        # Добавление l2 регуяризации\n",
    "        Wg += L2 * np.sum(W_pred)\n",
    "        # Добавление l1 регуяризации\n",
    "        Wg += L1 * np.sign(W_pred)\n",
    "        W_pred -= alpha * Wg\n",
    "        \n",
    "        if i % check_fr == 0:\n",
    "            mse_last = mse_err(X.T @ W_pred, y)\n",
    "\n",
    "    #print('Кол-во итераций:', i, '\\nВеса признаков: ', W_pred, '\\nMSE модели:', mse_err(X.T @ W_pred, y))\n",
    "    return W_pred"
   ]
  },
  {
   "cell_type": "code",
   "execution_count": null,
   "metadata": {},
   "outputs": [],
   "source": []
  },
  {
   "cell_type": "markdown",
   "metadata": {},
   "source": [
    "## Наработки"
   ]
  },
  {
   "cell_type": "code",
   "execution_count": 836,
   "metadata": {},
   "outputs": [
    {
     "name": "stdout",
     "output_type": "stream",
     "text": [
      "\n",
      "Веса признаков:  [57.4         6.12241513  1.42846588  4.11637116] \n",
      "MSE модели: 39.777746035558316\n",
      "Wall time: 15 ms\n"
     ]
    }
   ],
   "source": [
    "%%time\n",
    "#Метод наименьших квадратов\n",
    "W_mnk = np.linalg.inv(np.dot(X_stand, X_stand.T)) @ X_stand @ y\n",
    "W_mnk, mse_err(X_stand.T @ W_mnk, y)\n",
    "print('\\nВеса признаков: ', W_mnk, '\\nMSE модели:', mse_err(X_stand.T @ W_mnk, y))"
   ]
  },
  {
   "cell_type": "code",
   "execution_count": null,
   "metadata": {},
   "outputs": [],
   "source": []
  },
  {
   "cell_type": "code",
   "execution_count": null,
   "metadata": {},
   "outputs": [],
   "source": [
    "W_pred = gradient_boosting(X_stand, y, alpha=0.0001)\n",
    "\n",
    "\n",
    "plt.figure(figsize=(10,10))\n",
    "\n",
    "plt.scatter(x1, y, label='Наблюдения', c='b')\n",
    "plt.plot(x1, X.T @ W, label='Незашумленные данные, MSE ' + str(round(mse_err(X.T @ W, y),4)), c='g')\n",
    "plt.plot(x1, X_stand.T @ W_pred, label='Прогноз методом градиентного бустинга, MSE ' + str(round(mse_err(X.T @ W_pred, y),4)), c='r')\n",
    "plt.plot(x1, X.T @ W_mnk, label='Прогноз методом наименьших квадратов, MSE ' + str(round(mse_err(X.T @ W_mnk, y),4)), c='y')\n",
    "plt.legend()\n",
    "plt.show()"
   ]
  }
 ],
 "metadata": {
  "kernelspec": {
   "display_name": "Python 3",
   "language": "python",
   "name": "python3"
  },
  "language_info": {
   "codemirror_mode": {
    "name": "ipython",
    "version": 3
   },
   "file_extension": ".py",
   "mimetype": "text/x-python",
   "name": "python",
   "nbconvert_exporter": "python",
   "pygments_lexer": "ipython3",
   "version": "3.7.1"
  }
 },
 "nbformat": 4,
 "nbformat_minor": 2
}
