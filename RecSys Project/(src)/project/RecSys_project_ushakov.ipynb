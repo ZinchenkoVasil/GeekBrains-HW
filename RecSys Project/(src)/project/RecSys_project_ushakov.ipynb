{
 "cells": [
  {
   "cell_type": "code",
   "execution_count": 1,
   "metadata": {},
   "outputs": [],
   "source": [
    "import pandas as pd\n",
    "import numpy as np\n",
    "import matplotlib.pyplot as plt\n",
    "%matplotlib inline\n",
    "\n",
    "# Для работы с матрицами\n",
    "from scipy.sparse import csr_matrix\n",
    "\n",
    "# Матричная факторизация\n",
    "from implicit.als import AlternatingLeastSquares\n",
    "from implicit.nearest_neighbours import ItemItemRecommender  # нужен для одного трюка\n",
    "from implicit.nearest_neighbours import bm25_weight, tfidf_weight\n",
    "\n",
    "import os, sys\n",
    "\n",
    "import catboost as catb\n",
    "\n",
    "module_path = os.path.abspath(os.path.join(os.pardir)) + os.path.sep  + '(src)'\n",
    "\n",
    "if module_path not in sys.path:\n",
    "    sys.path.append(module_path)\n",
    "    \n",
    "from metrics import recall_at_k_series, evaluate_recommenders\n",
    "\n",
    "from recommender import RecSys\n",
    "\n",
    "%matplotlib inline\n",
    "pd.set_option('display.max_columns', None)"
   ]
  },
  {
   "cell_type": "markdown",
   "metadata": {},
   "source": [
    "# **PUBLIC TEST**"
   ]
  },
  {
   "cell_type": "markdown",
   "metadata": {},
   "source": [
    "### Parameters"
   ]
  },
  {
   "cell_type": "code",
   "execution_count": 2,
   "metadata": {},
   "outputs": [],
   "source": [
    "# TEST / TRAIN Data\n",
    "df_file_name = 'retail_train.csv.zip'\n",
    "df_public_test_file_name = 'retail_test1.csv'\n",
    "df_users_file_name = 'hh_demographic.csv'\n",
    "df_items_file_name = 'product.csv'\n",
    "\n",
    "# Model parameters\n",
    "prefilter_params = {'n_popular_limit':5000,\n",
    "                    'upper_popularity_limit':1,\n",
    "                    'lower_popularity_limit':0.005,\n",
    "                    'lower_price_limit':1,\n",
    "                    'upper_price_limit':50,\n",
    "                    'min_dep_assortment':100}\n",
    "\n",
    "als_params = {'n_factors':50,\n",
    "              'regularization':0.005,\n",
    "              'iterations':30}\n",
    "\n",
    "history_weeks_first_model = 26\n",
    "history_weeks_second_model = 6\n",
    "\n",
    "weighting = False\n",
    "first_model_rec_limit = 200"
   ]
  },
  {
   "cell_type": "markdown",
   "metadata": {},
   "source": [
    "### Loading data"
   ]
  },
  {
   "cell_type": "code",
   "execution_count": 3,
   "metadata": {},
   "outputs": [
    {
     "name": "stdout",
     "output_type": "stream",
     "text": [
      "Wall time: 2.35 s\n"
     ]
    }
   ],
   "source": [
    "%%time\n",
    "\n",
    "df = pd.read_csv(df_file_name, compression='zip')\n",
    "df_test = pd.read_csv(df_public_test_file_name)\n",
    "\n",
    "df_users = pd.read_csv(df_users_file_name)\n",
    "df_users.rename(columns={'household_key':'user_id'}, inplace=True)\n",
    "\n",
    "df_items = pd.read_csv(df_items_file_name)\n",
    "df_items.rename(columns={'PRODUCT_ID':'item_id'}, inplace=True)"
   ]
  },
  {
   "cell_type": "markdown",
   "metadata": {},
   "source": [
    "### Model training (~15 min training)"
   ]
  },
  {
   "cell_type": "code",
   "execution_count": 4,
   "metadata": {},
   "outputs": [
    {
     "data": {
      "application/vnd.jupyter.widget-view+json": {
       "model_id": "b339dccd0d3a410ab2f2a2e7c25a0462",
       "version_major": 2,
       "version_minor": 0
      },
      "text/plain": [
       "HBox(children=(FloatProgress(value=0.0, max=3907.0), HTML(value='')))"
      ]
     },
     "metadata": {},
     "output_type": "display_data"
    },
    {
     "name": "stdout",
     "output_type": "stream",
     "text": [
      "\n"
     ]
    },
    {
     "name": "stderr",
     "output_type": "stream",
     "text": [
      "WARNING:root:OpenBLAS detected. Its highly recommend to set the environment variable 'export OPENBLAS_NUM_THREADS=1' to disable its internal multithreading\n"
     ]
    },
    {
     "data": {
      "application/vnd.jupyter.widget-view+json": {
       "model_id": "65dbd229c4c14e7697a886e780d77d61",
       "version_major": 2,
       "version_minor": 0
      },
      "text/plain": [
       "HBox(children=(FloatProgress(value=0.0, max=30.0), HTML(value='')))"
      ]
     },
     "metadata": {},
     "output_type": "display_data"
    },
    {
     "name": "stdout",
     "output_type": "stream",
     "text": [
      "\n",
      "Wall time: 16min 42s\n"
     ]
    }
   ],
   "source": [
    "%%time\n",
    "\n",
    "rec_sys= RecSys(df=df,\n",
    "                history_weeks_first_model=history_weeks_first_model,\n",
    "                history_weeks_second_model=history_weeks_second_model,\n",
    "                df_items=df_items,\n",
    "                df_users=df_users,\n",
    "                weighting=weighting,\n",
    "                first_model_rec_limit=first_model_rec_limit,\n",
    "                prefilter_params=prefilter_params,\n",
    "                als_params=als_params)"
   ]
  },
  {
   "cell_type": "markdown",
   "metadata": {},
   "source": [
    "### Recommendations"
   ]
  },
  {
   "cell_type": "code",
   "execution_count": 5,
   "metadata": {},
   "outputs": [
    {
     "data": {
      "text/html": [
       "<div>\n",
       "<style scoped>\n",
       "    .dataframe tbody tr th:only-of-type {\n",
       "        vertical-align: middle;\n",
       "    }\n",
       "\n",
       "    .dataframe tbody tr th {\n",
       "        vertical-align: top;\n",
       "    }\n",
       "\n",
       "    .dataframe thead th {\n",
       "        text-align: right;\n",
       "    }\n",
       "</style>\n",
       "<table border=\"1\" class=\"dataframe\">\n",
       "  <thead>\n",
       "    <tr style=\"text-align: right;\">\n",
       "      <th></th>\n",
       "      <th>user_id</th>\n",
       "      <th>purchases</th>\n",
       "    </tr>\n",
       "  </thead>\n",
       "  <tbody>\n",
       "    <tr>\n",
       "      <td>0</td>\n",
       "      <td>1</td>\n",
       "      <td>[880007, 883616, 931136, 938004, 940947, 94726...</td>\n",
       "    </tr>\n",
       "    <tr>\n",
       "      <td>1</td>\n",
       "      <td>2</td>\n",
       "      <td>[820165, 820291, 826784, 826835, 829009, 85784...</td>\n",
       "    </tr>\n",
       "  </tbody>\n",
       "</table>\n",
       "</div>"
      ],
      "text/plain": [
       "   user_id                                          purchases\n",
       "0        1  [880007, 883616, 931136, 938004, 940947, 94726...\n",
       "1        2  [820165, 820291, 826784, 826835, 829009, 85784..."
      ]
     },
     "execution_count": 5,
     "metadata": {},
     "output_type": "execute_result"
    }
   ],
   "source": [
    "# preprocessing test data\n",
    "df_test_pr = rec_sys.df_test_preprocess(df_test)\n",
    "df_test_pr.head(2)"
   ]
  },
  {
   "cell_type": "code",
   "execution_count": 6,
   "metadata": {},
   "outputs": [
    {
     "data": {
      "text/html": [
       "<div>\n",
       "<style scoped>\n",
       "    .dataframe tbody tr th:only-of-type {\n",
       "        vertical-align: middle;\n",
       "    }\n",
       "\n",
       "    .dataframe tbody tr th {\n",
       "        vertical-align: top;\n",
       "    }\n",
       "\n",
       "    .dataframe thead th {\n",
       "        text-align: right;\n",
       "    }\n",
       "</style>\n",
       "<table border=\"1\" class=\"dataframe\">\n",
       "  <thead>\n",
       "    <tr style=\"text-align: right;\">\n",
       "      <th></th>\n",
       "      <th>user_id</th>\n",
       "      <th>purchases</th>\n",
       "      <th>top_popular</th>\n",
       "      <th>top_purchases</th>\n",
       "      <th>top_purchases_by_user</th>\n",
       "      <th>own_recommender</th>\n",
       "      <th>als_recommender</th>\n",
       "      <th>basic_recommender</th>\n",
       "      <th>catb_recommender</th>\n",
       "      <th>hit</th>\n",
       "    </tr>\n",
       "  </thead>\n",
       "  <tbody>\n",
       "    <tr>\n",
       "      <td>0</td>\n",
       "      <td>1</td>\n",
       "      <td>[880007, 883616, 931136, 938004, 940947, 94726...</td>\n",
       "      <td>[1082185, 981760, 995242, 1029743, 840361, 109...</td>\n",
       "      <td>[1029743, 995242, 1106523, 981760, 1133018, 11...</td>\n",
       "      <td>[856942, 995242, 940947, 5577022, 9527290, 108...</td>\n",
       "      <td>[1081177, 1004906, 12810393, 6034857, 1006184,...</td>\n",
       "      <td>[979707, 995242, 965766, 940947, 1024306, 9527...</td>\n",
       "      <td>[1082185, 1029743, 856942, 979707, 1081177, 98...</td>\n",
       "      <td>[856942, 1082185, 979707, 9655212, 6534178, 94...</td>\n",
       "      <td>1</td>\n",
       "    </tr>\n",
       "    <tr>\n",
       "      <td>1</td>\n",
       "      <td>2</td>\n",
       "      <td>[820165, 820291, 826784, 826835, 829009, 85784...</td>\n",
       "      <td>[1082185, 981760, 995242, 1029743, 840361, 109...</td>\n",
       "      <td>[1029743, 995242, 1106523, 981760, 1133018, 11...</td>\n",
       "      <td>[826784, 1106523, 951590, 8090521, 901062, 980...</td>\n",
       "      <td>[1127831, 1106523, 1133018, 1081177, 5569230, ...</td>\n",
       "      <td>[1106523, 1133018, 5569230, 1127831, 1081177, ...</td>\n",
       "      <td>[1082185, 1029743, 826784, 1106523, 1127831, 9...</td>\n",
       "      <td>[1106523, 1133018, 1082185, 1037840, 6534178, ...</td>\n",
       "      <td>1</td>\n",
       "    </tr>\n",
       "  </tbody>\n",
       "</table>\n",
       "</div>"
      ],
      "text/plain": [
       "   user_id                                          purchases  \\\n",
       "0        1  [880007, 883616, 931136, 938004, 940947, 94726...   \n",
       "1        2  [820165, 820291, 826784, 826835, 829009, 85784...   \n",
       "\n",
       "                                         top_popular  \\\n",
       "0  [1082185, 981760, 995242, 1029743, 840361, 109...   \n",
       "1  [1082185, 981760, 995242, 1029743, 840361, 109...   \n",
       "\n",
       "                                       top_purchases  \\\n",
       "0  [1029743, 995242, 1106523, 981760, 1133018, 11...   \n",
       "1  [1029743, 995242, 1106523, 981760, 1133018, 11...   \n",
       "\n",
       "                               top_purchases_by_user  \\\n",
       "0  [856942, 995242, 940947, 5577022, 9527290, 108...   \n",
       "1  [826784, 1106523, 951590, 8090521, 901062, 980...   \n",
       "\n",
       "                                     own_recommender  \\\n",
       "0  [1081177, 1004906, 12810393, 6034857, 1006184,...   \n",
       "1  [1127831, 1106523, 1133018, 1081177, 5569230, ...   \n",
       "\n",
       "                                     als_recommender  \\\n",
       "0  [979707, 995242, 965766, 940947, 1024306, 9527...   \n",
       "1  [1106523, 1133018, 5569230, 1127831, 1081177, ...   \n",
       "\n",
       "                                   basic_recommender  \\\n",
       "0  [1082185, 1029743, 856942, 979707, 1081177, 98...   \n",
       "1  [1082185, 1029743, 826784, 1106523, 1127831, 9...   \n",
       "\n",
       "                                    catb_recommender  hit  \n",
       "0  [856942, 1082185, 979707, 9655212, 6534178, 94...    1  \n",
       "1  [1106523, 1133018, 1082185, 1037840, 6534178, ...    1  "
      ]
     },
     "execution_count": 6,
     "metadata": {},
     "output_type": "execute_result"
    }
   ],
   "source": [
    "# Making recommendations\n",
    "df_test_pr = rec_sys.predict(df_test=df_test_pr)\n",
    "df_test_pr.head(2)"
   ]
  },
  {
   "cell_type": "markdown",
   "metadata": {},
   "source": [
    "### Metrics"
   ]
  },
  {
   "cell_type": "code",
   "execution_count": 7,
   "metadata": {},
   "outputs": [
    {
     "name": "stdout",
     "output_type": "stream",
     "text": [
      "                                    PRECISION     RECALL\n",
      "\n",
      "top_popular                         0.173050      0.202535\n",
      "top_purchases                       0.126048      0.151067\n"
     ]
    },
    {
     "name": "stderr",
     "output_type": "stream",
     "text": [
      "D:\\Personal\\Lesha\\Data Science & AI\\GeekBrains courses\\RecSys\\(src)\\metrics.py:18: RuntimeWarning: invalid value encountered in long_scalars\n",
      "  return flags.sum() / len(recommended_list)\n"
     ]
    },
    {
     "name": "stdout",
     "output_type": "stream",
     "text": [
      "top_purchases_by_user               0.303317      0.171033\n",
      "own_recommender                     0.139493      0.091573\n",
      "als_recommender                     0.201504      0.193319\n",
      "basic_recommender                   0.270870      0.213423\n",
      "catb_recommender                    0.312502      0.238151\n"
     ]
    }
   ],
   "source": [
    "# Evaluating recommendations\n",
    "recommender_col_list = list(df_test_pr.loc[:,'top_popular':].columns.drop('hit'))\n",
    "evaluate_recommenders(df_test=df_test_pr,\n",
    "                      bought_col='purchases',\n",
    "                      recommender_col_list=recommender_col_list,\n",
    "                      k_precision=5,\n",
    "                      k_recall=200)"
   ]
  },
  {
   "cell_type": "markdown",
   "metadata": {},
   "source": [
    "### Export public_test recommendations"
   ]
  },
  {
   "cell_type": "code",
   "execution_count": 8,
   "metadata": {},
   "outputs": [
    {
     "data": {
      "text/html": [
       "<div>\n",
       "<style scoped>\n",
       "    .dataframe tbody tr th:only-of-type {\n",
       "        vertical-align: middle;\n",
       "    }\n",
       "\n",
       "    .dataframe tbody tr th {\n",
       "        vertical-align: top;\n",
       "    }\n",
       "\n",
       "    .dataframe thead th {\n",
       "        text-align: right;\n",
       "    }\n",
       "</style>\n",
       "<table border=\"1\" class=\"dataframe\">\n",
       "  <thead>\n",
       "    <tr style=\"text-align: right;\">\n",
       "      <th></th>\n",
       "      <th>user_id</th>\n",
       "      <th>catb_recommender</th>\n",
       "    </tr>\n",
       "  </thead>\n",
       "  <tbody>\n",
       "    <tr>\n",
       "      <td>0</td>\n",
       "      <td>1</td>\n",
       "      <td>[856942, 1082185, 979707, 9655212, 6534178, 94...</td>\n",
       "    </tr>\n",
       "    <tr>\n",
       "      <td>1</td>\n",
       "      <td>2</td>\n",
       "      <td>[1106523, 1133018, 1082185, 1037840, 6534178, ...</td>\n",
       "    </tr>\n",
       "    <tr>\n",
       "      <td>2</td>\n",
       "      <td>3</td>\n",
       "      <td>[1092026, 951590, 1037840, 844165, 1053690, 55...</td>\n",
       "    </tr>\n",
       "    <tr>\n",
       "      <td>3</td>\n",
       "      <td>6</td>\n",
       "      <td>[1082185, 995242, 1029743, 6534178, 1119051, 8...</td>\n",
       "    </tr>\n",
       "    <tr>\n",
       "      <td>4</td>\n",
       "      <td>7</td>\n",
       "      <td>[1082185, 6534178, 1058997, 1106523, 1133018, ...</td>\n",
       "    </tr>\n",
       "    <tr>\n",
       "      <td>...</td>\n",
       "      <td>...</td>\n",
       "      <td>...</td>\n",
       "    </tr>\n",
       "    <tr>\n",
       "      <td>1880</td>\n",
       "      <td>2496</td>\n",
       "      <td>[6534178, 1082185, 916122, 1133018, 885023, 98...</td>\n",
       "    </tr>\n",
       "    <tr>\n",
       "      <td>1881</td>\n",
       "      <td>2497</td>\n",
       "      <td>[5569230, 1066685, 6534178, 951590, 900802, 11...</td>\n",
       "    </tr>\n",
       "    <tr>\n",
       "      <td>1882</td>\n",
       "      <td>2498</td>\n",
       "      <td>[1082185, 1070820, 6534178, 914190, 862349, 55...</td>\n",
       "    </tr>\n",
       "    <tr>\n",
       "      <td>1883</td>\n",
       "      <td>2499</td>\n",
       "      <td>[5568378, 1106523, 5569327, 13945244, 951590, ...</td>\n",
       "    </tr>\n",
       "    <tr>\n",
       "      <td>1884</td>\n",
       "      <td>2500</td>\n",
       "      <td>[1029743, 995242, 1082185, 6534178, 859237, 10...</td>\n",
       "    </tr>\n",
       "  </tbody>\n",
       "</table>\n",
       "<p>1885 rows × 2 columns</p>\n",
       "</div>"
      ],
      "text/plain": [
       "      user_id                                   catb_recommender\n",
       "0           1  [856942, 1082185, 979707, 9655212, 6534178, 94...\n",
       "1           2  [1106523, 1133018, 1082185, 1037840, 6534178, ...\n",
       "2           3  [1092026, 951590, 1037840, 844165, 1053690, 55...\n",
       "3           6  [1082185, 995242, 1029743, 6534178, 1119051, 8...\n",
       "4           7  [1082185, 6534178, 1058997, 1106523, 1133018, ...\n",
       "...       ...                                                ...\n",
       "1880     2496  [6534178, 1082185, 916122, 1133018, 885023, 98...\n",
       "1881     2497  [5569230, 1066685, 6534178, 951590, 900802, 11...\n",
       "1882     2498  [1082185, 1070820, 6534178, 914190, 862349, 55...\n",
       "1883     2499  [5568378, 1106523, 5569327, 13945244, 951590, ...\n",
       "1884     2500  [1029743, 995242, 1082185, 6534178, 859237, 10...\n",
       "\n",
       "[1885 rows x 2 columns]"
      ]
     },
     "execution_count": 8,
     "metadata": {},
     "output_type": "execute_result"
    }
   ],
   "source": [
    "# Exporting PUBLIC TEST recomendations\n",
    "df_test_pr[['user_id', 'catb_recommender']].to_csv('public_test_recommendations.csv', index=False)\n",
    "pd.read_csv('public_test_recommendations.csv')"
   ]
  },
  {
   "cell_type": "markdown",
   "metadata": {},
   "source": [
    "# **FINAL MODEL (training data includes public test data)**"
   ]
  },
  {
   "cell_type": "markdown",
   "metadata": {},
   "source": [
    "### Parameters"
   ]
  },
  {
   "cell_type": "code",
   "execution_count": 9,
   "metadata": {},
   "outputs": [],
   "source": [
    "# TEST / TRAIN Data\n",
    "df_file_name = 'retail_train.csv.zip' \n",
    "df_public_test_file_name = 'retail_test1.csv'\n",
    "df_users_file_name = 'hh_demographic.csv'\n",
    "df_items_file_name = 'product.csv'\n",
    "\n",
    "# Model parameters\n",
    "\n",
    "prefilter_params = {'n_popular_limit':5000,\n",
    "                    'upper_popularity_limit':1,\n",
    "                    'lower_popularity_limit':0.005,\n",
    "                    'lower_price_limit':1,\n",
    "                    'upper_price_limit':50,\n",
    "                    'min_dep_assortment':100}\n",
    "\n",
    "als_params = {'n_factors':50,\n",
    "              'regularization':0.005,\n",
    "              'iterations':30}\n",
    "\n",
    "history_weeks_first_model = 26\n",
    "history_weeks_second_model = 6\n",
    "\n",
    "weighting = False\n",
    "first_model_rec_limit = 200"
   ]
  },
  {
   "cell_type": "markdown",
   "metadata": {},
   "source": [
    "### Loading data"
   ]
  },
  {
   "cell_type": "code",
   "execution_count": 10,
   "metadata": {},
   "outputs": [
    {
     "name": "stdout",
     "output_type": "stream",
     "text": [
      "Wall time: 2.79 s\n"
     ]
    }
   ],
   "source": [
    "%%time\n",
    "# making full dataset\n",
    "df = pd.concat((pd.read_csv(df_file_name, compression='zip'),\n",
    "                pd.read_csv(df_public_test_file_name)),\n",
    "               axis=0)\n",
    "\n",
    "df_users = pd.read_csv(df_users_file_name)\n",
    "df_users.rename(columns={'household_key':'user_id'}, inplace=True)\n",
    "\n",
    "df_items = pd.read_csv(df_items_file_name)\n",
    "df_items.rename(columns={'PRODUCT_ID':'item_id'}, inplace=True)"
   ]
  },
  {
   "cell_type": "markdown",
   "metadata": {},
   "source": [
    "### Model training (~10 min training)"
   ]
  },
  {
   "cell_type": "code",
   "execution_count": 11,
   "metadata": {},
   "outputs": [
    {
     "data": {
      "application/vnd.jupyter.widget-view+json": {
       "model_id": "31695d8408bc4dfcad1004edd7ff4991",
       "version_major": 2,
       "version_minor": 0
      },
      "text/plain": [
       "HBox(children=(FloatProgress(value=0.0, max=3914.0), HTML(value='')))"
      ]
     },
     "metadata": {},
     "output_type": "display_data"
    },
    {
     "name": "stdout",
     "output_type": "stream",
     "text": [
      "\n"
     ]
    },
    {
     "data": {
      "application/vnd.jupyter.widget-view+json": {
       "model_id": "05267f09eac540cc81d50d5dd377ca5c",
       "version_major": 2,
       "version_minor": 0
      },
      "text/plain": [
       "HBox(children=(FloatProgress(value=0.0, max=30.0), HTML(value='')))"
      ]
     },
     "metadata": {},
     "output_type": "display_data"
    },
    {
     "name": "stdout",
     "output_type": "stream",
     "text": [
      "\n",
      "Wall time: 17min 5s\n"
     ]
    }
   ],
   "source": [
    "%%time\n",
    "\n",
    "rec_sys= RecSys(df=df,\n",
    "                history_weeks_first_model=history_weeks_first_model,\n",
    "                history_weeks_second_model=history_weeks_second_model,\n",
    "                df_items=df_items,\n",
    "                df_users=df_users,\n",
    "                weighting=weighting,\n",
    "                first_model_rec_limit=first_model_rec_limit,\n",
    "                prefilter_params=prefilter_params,\n",
    "                als_params=als_params)"
   ]
  },
  {
   "cell_type": "markdown",
   "metadata": {},
   "source": [
    "### Recommendations"
   ]
  },
  {
   "cell_type": "code",
   "execution_count": 12,
   "metadata": {},
   "outputs": [
    {
     "data": {
      "text/html": [
       "<div>\n",
       "<style scoped>\n",
       "    .dataframe tbody tr th:only-of-type {\n",
       "        vertical-align: middle;\n",
       "    }\n",
       "\n",
       "    .dataframe tbody tr th {\n",
       "        vertical-align: top;\n",
       "    }\n",
       "\n",
       "    .dataframe thead th {\n",
       "        text-align: right;\n",
       "    }\n",
       "</style>\n",
       "<table border=\"1\" class=\"dataframe\">\n",
       "  <thead>\n",
       "    <tr style=\"text-align: right;\">\n",
       "      <th></th>\n",
       "      <th>user_id</th>\n",
       "      <th>catb_recommender</th>\n",
       "    </tr>\n",
       "  </thead>\n",
       "  <tbody>\n",
       "    <tr>\n",
       "      <td>0</td>\n",
       "      <td>1</td>\n",
       "      <td>[856942, 1082185, 979707, 9655212, 6534178, 94...</td>\n",
       "    </tr>\n",
       "    <tr>\n",
       "      <td>1</td>\n",
       "      <td>2</td>\n",
       "      <td>[1106523, 1133018, 1082185, 1037840, 6534178, ...</td>\n",
       "    </tr>\n",
       "    <tr>\n",
       "      <td>2</td>\n",
       "      <td>3</td>\n",
       "      <td>[1092026, 951590, 1037840, 844165, 1053690, 55...</td>\n",
       "    </tr>\n",
       "    <tr>\n",
       "      <td>3</td>\n",
       "      <td>6</td>\n",
       "      <td>[1082185, 995242, 1029743, 6534178, 1119051, 8...</td>\n",
       "    </tr>\n",
       "    <tr>\n",
       "      <td>4</td>\n",
       "      <td>7</td>\n",
       "      <td>[1082185, 6534178, 1058997, 1106523, 1133018, ...</td>\n",
       "    </tr>\n",
       "    <tr>\n",
       "      <td>...</td>\n",
       "      <td>...</td>\n",
       "      <td>...</td>\n",
       "    </tr>\n",
       "    <tr>\n",
       "      <td>1880</td>\n",
       "      <td>2496</td>\n",
       "      <td>[6534178, 1082185, 916122, 1133018, 885023, 98...</td>\n",
       "    </tr>\n",
       "    <tr>\n",
       "      <td>1881</td>\n",
       "      <td>2497</td>\n",
       "      <td>[5569230, 1066685, 6534178, 951590, 900802, 11...</td>\n",
       "    </tr>\n",
       "    <tr>\n",
       "      <td>1882</td>\n",
       "      <td>2498</td>\n",
       "      <td>[1082185, 1070820, 6534178, 914190, 862349, 55...</td>\n",
       "    </tr>\n",
       "    <tr>\n",
       "      <td>1883</td>\n",
       "      <td>2499</td>\n",
       "      <td>[5568378, 1106523, 5569327, 13945244, 951590, ...</td>\n",
       "    </tr>\n",
       "    <tr>\n",
       "      <td>1884</td>\n",
       "      <td>2500</td>\n",
       "      <td>[1029743, 995242, 1082185, 6534178, 859237, 10...</td>\n",
       "    </tr>\n",
       "  </tbody>\n",
       "</table>\n",
       "<p>1885 rows × 2 columns</p>\n",
       "</div>"
      ],
      "text/plain": [
       "      user_id                                   catb_recommender\n",
       "0           1  [856942, 1082185, 979707, 9655212, 6534178, 94...\n",
       "1           2  [1106523, 1133018, 1082185, 1037840, 6534178, ...\n",
       "2           3  [1092026, 951590, 1037840, 844165, 1053690, 55...\n",
       "3           6  [1082185, 995242, 1029743, 6534178, 1119051, 8...\n",
       "4           7  [1082185, 6534178, 1058997, 1106523, 1133018, ...\n",
       "...       ...                                                ...\n",
       "1880     2496  [6534178, 1082185, 916122, 1133018, 885023, 98...\n",
       "1881     2497  [5569230, 1066685, 6534178, 951590, 900802, 11...\n",
       "1882     2498  [1082185, 1070820, 6534178, 914190, 862349, 55...\n",
       "1883     2499  [5568378, 1106523, 5569327, 13945244, 951590, ...\n",
       "1884     2500  [1029743, 995242, 1082185, 6534178, 859237, 10...\n",
       "\n",
       "[1885 rows x 2 columns]"
      ]
     },
     "execution_count": 12,
     "metadata": {},
     "output_type": "execute_result"
    }
   ],
   "source": [
    "# Exporting PUBLIC TEST recomendations\n",
    "rec_sys.df_users[['user_id', 'catb_recommender']].to_csv('final_recommendations.csv', index=False)\n",
    "pd.read_csv('public_test_recommendations.csv')"
   ]
  },
  {
   "cell_type": "code",
   "execution_count": null,
   "metadata": {},
   "outputs": [],
   "source": []
  }
 ],
 "metadata": {
  "kernelspec": {
   "display_name": "Python 3",
   "language": "python",
   "name": "python3"
  },
  "language_info": {
   "codemirror_mode": {
    "name": "ipython",
    "version": 3
   },
   "file_extension": ".py",
   "mimetype": "text/x-python",
   "name": "python",
   "nbconvert_exporter": "python",
   "pygments_lexer": "ipython3",
   "version": "3.7.6"
  }
 },
 "nbformat": 4,
 "nbformat_minor": 4
}
