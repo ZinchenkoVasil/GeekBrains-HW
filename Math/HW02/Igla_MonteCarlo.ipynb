{
 "cells": [
  {
   "cell_type": "code",
   "execution_count": null,
   "metadata": {},
   "outputs": [],
   "source": [
    "# Задача с иглой - решение методом Монтекарло"
   ]
  },
  {
   "cell_type": "code",
   "execution_count": 26,
   "metadata": {},
   "outputs": [],
   "source": [
    "import numpy as np"
   ]
  },
  {
   "cell_type": "markdown",
   "metadata": {},
   "source": [
    "На лист бумаги, разлинованном \"в линейку\" кидают иглу иглу длинна котрой равна расстоянию между линиями. необходимо определить вероятность с которой игла при случайном падении пересечет линию."
   ]
  },
  {
   "cell_type": "markdown",
   "metadata": {},
   "source": [
    "Решение:\n",
    "Возмем длинну иглы и расстояние между линиями - \"a\"\n",
    "координаты падения одного конца иглы - x,y\n",
    "угол под которым легла на бумаге игла  - alpha\n",
    "\n",
    "тогда выражение (y % a + a * sin(alfa) > a) будет ответом на вопрос пересекает ли игла линию\n",
    "иначе можно переформулировать: (y % 1 + sin(alfa) > 1)\n",
    "Если y будет случайным числом от 0 до 1 можно упростить выражение: (y + sin(alpha) >1) или (sin(alpha) > y)\n",
    "\n",
    "Смоделируем 10 000 000 эксперементов и вычислим вероятность пересечения иголкой линии\n",
    "\n",
    "Также эту задачу можно решить аналитическим путем"
   ]
  },
  {
   "cell_type": "code",
   "execution_count": 87,
   "metadata": {},
   "outputs": [],
   "source": [
    "y = np.random.rand(10000000)\n",
    "alpha = np.random.rand(10000000) * np.pi * 2\n",
    "experiment = ((np.sin(alpha)) >y)\n",
    "p = experiment.sum()/experiment.shape[0]"
   ]
  },
  {
   "cell_type": "code",
   "execution_count": 88,
   "metadata": {},
   "outputs": [
    {
     "name": "stdout",
     "output_type": "stream",
     "text": [
      "Вероятность пересечения иголкой линии 0.3183759\n",
      "1 / pi =  0.3183098861837907\n"
     ]
    }
   ],
   "source": [
    "print('Вероятность пересечения иголкой линии определенная методом Монте Карло', p)\n",
    "print('1 / pi = ', 1 / np.pi)"
   ]
  }
 ],
 "metadata": {
  "kernelspec": {
   "display_name": "Python 3",
   "language": "python",
   "name": "python3"
  },
  "language_info": {
   "codemirror_mode": {
    "name": "ipython",
    "version": 3
   },
   "file_extension": ".py",
   "mimetype": "text/x-python",
   "name": "python",
   "nbconvert_exporter": "python",
   "pygments_lexer": "ipython3",
   "version": "3.7.1"
  }
 },
 "nbformat": 4,
 "nbformat_minor": 2
}
