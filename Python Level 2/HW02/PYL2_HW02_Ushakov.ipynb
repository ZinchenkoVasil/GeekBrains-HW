{
 "cells": [
  {
   "cell_type": "markdown",
   "metadata": {},
   "source": [
    "Необходимые и достаточные условия\n",
    "\n",
    "Реализовать скрипт для чтения/записи данных в формате csv;\n",
    "Реализовать скрипт для чтения/записи данных в формате json;\n",
    "Реализовать скрипт для чтения/записи данных в формате yaml;\n",
    "Реализовать скрипт для преобразования данных в формате csv в формат json;\n",
    "Реализовать скрипт для преобразования данных в формате csv в формат yaml;\n",
    "Реализовать скрипт для преобразования данных в формате json в формат yaml.\n",
    "Практическая работа\n",
    "\n",
    "\n",
    "\n"
   ]
  },
  {
   "cell_type": "code",
   "execution_count": 17,
   "metadata": {},
   "outputs": [],
   "source": [
    "import chardet\n",
    "import csv"
   ]
  },
  {
   "cell_type": "markdown",
   "metadata": {},
   "source": [
    "1. Задание на закрепление знаний по модулю CSV. Написать скрипт, осуществляющий выборку определенных данных из файлов info_1.txt, info_2.txt, info_3.txt и формирующий новый «отчетный» файл в формате CSV. Для этого:"
   ]
  },
  {
   "cell_type": "markdown",
   "metadata": {},
   "source": [
    "1.1. Создать функцию get_data(), в которой в цикле осуществляется перебор файлов с данными, их открытие и считывание данных. В этой функции из считанных данных необходимо с помощью регулярных выражений извлечь значения параметров «Изготовитель системы», «Название ОС», «Код продукта», «Тип системы». Значения каждого параметра поместить в соответствующий список. Должно получиться четыре списка — например, os_prod_list, os_name_list, os_code_list, os_type_list. В этой же функции создать главный список для хранения данных отчета — например, main_data — и поместить в него названия столбцов отчета в виде списка: «Изготовитель системы», «Название ОС», «Код продукта», «Тип системы». Значения для этих столбцов также оформить в виде списка и поместить в файл main_data (также для каждого файла);"
   ]
  },
  {
   "cell_type": "markdown",
   "metadata": {},
   "source": [
    "1.2. Создать функцию write_to_csv(), в которую передавать ссылку на CSV-файл. В этой функции реализовать получение данных через вызов функции get_data(), а также сохранение подготовленных данных в соответствующий CSV-файл;"
   ]
  },
  {
   "cell_type": "markdown",
   "metadata": {},
   "source": [
    "1.3. Проверить работу программы через вызов функции write_to_csv()."
   ]
  },
  {
   "cell_type": "code",
   "execution_count": 80,
   "metadata": {},
   "outputs": [
    {
     "name": "stdout",
     "output_type": "stream",
     "text": [
      "[['Источник данных', 'Изготовитель системы', 'Название ОС', 'Код продукта', 'Тип системы'], ['data\\\\HW02\\\\info_1.txt', 'LENOVO', 'Microsoft Windows 7 Профессиональная', '00971-OEM-1982661-00231', 'x64-based PC'], ['data\\\\HW02\\\\info_2.txt', 'ACER', 'Microsoft Windows 10 Professional', '00971-OEM-1982661-00231', 'x64-based PC'], ['data\\\\HW02\\\\info_3.txt', 'DELL', 'Microsoft Windows 8.1 Professional', '00971-OEM-1982661-00231', 'x86-based PC']]\n"
     ]
    }
   ],
   "source": [
    "# Не стал в этом примере использовать регулярки т.к. довольно легко можно обойтись без низ в этом примере\n",
    "def get_data ():\n",
    "    file_list = ['info_1.txt', 'info_2.txt', 'info_3.txt']\n",
    "    main_data = [[\"Источник данных\", \"Изготовитель системы\", \"Название ОС\", \"Код продукта\", \"Тип системы\"]]\n",
    "    for file_name in file_list:\n",
    "        main_data.append([\"data\\HW02\\\\\" + file_name,'', '', '',''])\n",
    "        with open(\"data\\HW02\\\\\" + file_name) as file:\n",
    "        #print(\"-\" * 100 + \"\\ndata\\HW02\\\\\" + file_name + \"\\n\" + \"-\"*100)\n",
    "            for line in file:\n",
    "                for i in range(len(main_data[0][1:])):\n",
    "                    if line.startswith(main_data[0][i+1]): \n",
    "                        main_data[-1][i+1] = line[len(main_data[0][i+1])+1:].lstrip().rstrip()\n",
    "\n",
    "    os_prod_list, os_name_list, os_code_list, os_type_list = [],[],[],[]\n",
    "\n",
    "    for i in main_data[1:]:\n",
    "        os_prod_list.append(i[1])\n",
    "        os_name_list.append(i[2])\n",
    "        os_code_list.append(i[3])\n",
    "        os_type_list.append(i[4])\n",
    "    with open('main_data.csv', 'w') as fp:\n",
    "        writer = csv.writer(fp, delimiter=',')\n",
    "        writer.writerows(main_data)\n",
    "\n",
    "get_data()"
   ]
  },
  {
   "cell_type": "code",
   "execution_count": null,
   "metadata": {},
   "outputs": [],
   "source": []
  },
  {
   "cell_type": "markdown",
   "metadata": {},
   "source": [
    "2. Задание на закрепление знаний по модулю json. Есть файл orders в формате JSON с информацией о заказах. Написать скрипт, автоматизирующий его заполнение данными. Для этого:"
   ]
  },
  {
   "cell_type": "code",
   "execution_count": null,
   "metadata": {},
   "outputs": [],
   "source": []
  },
  {
   "cell_type": "markdown",
   "metadata": {},
   "source": [
    "2.1. Создать функцию write_order_to_json(), в которую передается 5 параметров — товар (item), количество (quantity), цена (price), покупатель (buyer), дата (date). Функция должна предусматривать запись данных в виде словаря в файл orders.json. При записи данных указать величину отступа в 4 пробельных символа;"
   ]
  },
  {
   "cell_type": "code",
   "execution_count": null,
   "metadata": {},
   "outputs": [],
   "source": []
  },
  {
   "cell_type": "markdown",
   "metadata": {},
   "source": [
    "2.2. Проверить работу программы через вызов функции write_order_to_json() с передачей в нее значений каждого параметра."
   ]
  },
  {
   "cell_type": "code",
   "execution_count": null,
   "metadata": {},
   "outputs": [],
   "source": []
  },
  {
   "cell_type": "markdown",
   "metadata": {},
   "source": [
    "2.3. Задание на закрепление знаний по модулю yaml. Написать скрипт, автоматизирующий сохранение данных в файле YAML-формата. Для этого:"
   ]
  },
  {
   "cell_type": "code",
   "execution_count": null,
   "metadata": {},
   "outputs": [],
   "source": []
  },
  {
   "cell_type": "markdown",
   "metadata": {},
   "source": [
    "2.4. Подготовить данные для записи в виде словаря, в котором первому ключу соответствует список, второму — целое число, третьему — вложенный словарь, где значение каждого ключа — это целое число с юникод-символом, отсутствующим в кодировке ASCII (например, €);"
   ]
  },
  {
   "cell_type": "code",
   "execution_count": null,
   "metadata": {},
   "outputs": [],
   "source": []
  },
  {
   "cell_type": "markdown",
   "metadata": {},
   "source": [
    "3.1. Реализовать сохранение данных в файл формата YAML — например, в файл file.yaml. При этом обеспечить стилизацию файла с помощью параметра default_flow_style, а также установить возможность работы с юникодом: allow_unicode = True;"
   ]
  },
  {
   "cell_type": "code",
   "execution_count": null,
   "metadata": {},
   "outputs": [],
   "source": []
  },
  {
   "cell_type": "markdown",
   "metadata": {},
   "source": [
    "3.2. Реализовать считывание данных из созданного файла и проверить, совпадают ли они с исходными."
   ]
  },
  {
   "cell_type": "code",
   "execution_count": null,
   "metadata": {},
   "outputs": [],
   "source": []
  },
  {
   "cell_type": "code",
   "execution_count": null,
   "metadata": {},
   "outputs": [],
   "source": []
  }
 ],
 "metadata": {
  "kernelspec": {
   "display_name": "Python 3",
   "language": "python",
   "name": "python3"
  },
  "language_info": {
   "codemirror_mode": {
    "name": "ipython",
    "version": 3
   },
   "file_extension": ".py",
   "mimetype": "text/x-python",
   "name": "python",
   "nbconvert_exporter": "python",
   "pygments_lexer": "ipython3",
   "version": "3.7.2"
  }
 },
 "nbformat": 4,
 "nbformat_minor": 2
}
