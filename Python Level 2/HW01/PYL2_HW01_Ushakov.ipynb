{
 "cells": [
  {
   "cell_type": "code",
   "execution_count": 1,
   "metadata": {},
   "outputs": [],
   "source": [
    "import chardet\n",
    "import requests"
   ]
  },
  {
   "cell_type": "markdown",
   "metadata": {},
   "source": [
    "1. Каждое из слов «разработка», «сокет», «декоратор» представить в строковом формате и проверить тип и содержание соответствующих переменных. Затем с помощью онлайн-конвертера преобразовать строковые представление в формат Unicode и также проверить тип и содержимое переменных."
   ]
  },
  {
   "cell_type": "code",
   "execution_count": 2,
   "metadata": {},
   "outputs": [
    {
     "name": "stdout",
     "output_type": "stream",
     "text": [
      "разработка  -  b'\\xff\\xfe@\\x040\\x047\\x04@\\x040\\x041\\x04>\\x04B\\x04:\\x040\\x04'\n",
      "сокет  -  b'\\xff\\xfeA\\x04>\\x04:\\x045\\x04B\\x04'\n",
      "декоратор  -  b'\\xff\\xfe4\\x045\\x04:\\x04>\\x04@\\x040\\x04B\\x04>\\x04@\\x04'\n"
     ]
    }
   ],
   "source": [
    "for i in ['разработка','сокет','декоратор']:\n",
    "    print (i, \" - \", i.encode('utf-16'))"
   ]
  },
  {
   "cell_type": "markdown",
   "metadata": {},
   "source": [
    "2. Каждое из слов «class», «function», «method» записать в байтовом типе без преобразования в последовательность кодов (не используя методы encode и decode) и определить тип, содержимое и длину соответствующих переменных."
   ]
  },
  {
   "cell_type": "code",
   "execution_count": 3,
   "metadata": {},
   "outputs": [
    {
     "data": {
      "text/plain": [
       "b'class'"
      ]
     },
     "execution_count": 3,
     "metadata": {},
     "output_type": "execute_result"
    }
   ],
   "source": [
    "b'class'"
   ]
  },
  {
   "cell_type": "code",
   "execution_count": 4,
   "metadata": {},
   "outputs": [
    {
     "data": {
      "text/plain": [
       "b'function'"
      ]
     },
     "execution_count": 4,
     "metadata": {},
     "output_type": "execute_result"
    }
   ],
   "source": [
    "b'function'"
   ]
  },
  {
   "cell_type": "code",
   "execution_count": 5,
   "metadata": {},
   "outputs": [
    {
     "data": {
      "text/plain": [
       "b'method'"
      ]
     },
     "execution_count": 5,
     "metadata": {},
     "output_type": "execute_result"
    }
   ],
   "source": [
    "b'method'"
   ]
  },
  {
   "cell_type": "markdown",
   "metadata": {},
   "source": [
    "3. Определить, какие из слов «attribute», «класс», «функция», «type» невозможно записать в байтовом типе."
   ]
  },
  {
   "cell_type": "code",
   "execution_count": 6,
   "metadata": {},
   "outputs": [
    {
     "data": {
      "text/plain": [
       "b'method'"
      ]
     },
     "execution_count": 6,
     "metadata": {},
     "output_type": "execute_result"
    }
   ],
   "source": [
    "b'method'"
   ]
  },
  {
   "cell_type": "code",
   "execution_count": 7,
   "metadata": {},
   "outputs": [
    {
     "ename": "SyntaxError",
     "evalue": "bytes can only contain ASCII literal characters. (<ipython-input-7-1892bb037e5c>, line 1)",
     "output_type": "error",
     "traceback": [
      "\u001b[1;36m  File \u001b[1;32m\"<ipython-input-7-1892bb037e5c>\"\u001b[1;36m, line \u001b[1;32m1\u001b[0m\n\u001b[1;33m    b'класс'\u001b[0m\n\u001b[1;37m            ^\u001b[0m\n\u001b[1;31mSyntaxError\u001b[0m\u001b[1;31m:\u001b[0m bytes can only contain ASCII literal characters.\n"
     ]
    }
   ],
   "source": [
    "b'класс'"
   ]
  },
  {
   "cell_type": "code",
   "execution_count": 8,
   "metadata": {},
   "outputs": [
    {
     "ename": "SyntaxError",
     "evalue": "bytes can only contain ASCII literal characters. (<ipython-input-8-469398a5f59d>, line 1)",
     "output_type": "error",
     "traceback": [
      "\u001b[1;36m  File \u001b[1;32m\"<ipython-input-8-469398a5f59d>\"\u001b[1;36m, line \u001b[1;32m1\u001b[0m\n\u001b[1;33m    b'функция'\u001b[0m\n\u001b[1;37m              ^\u001b[0m\n\u001b[1;31mSyntaxError\u001b[0m\u001b[1;31m:\u001b[0m bytes can only contain ASCII literal characters.\n"
     ]
    }
   ],
   "source": [
    "b'функция'"
   ]
  },
  {
   "cell_type": "code",
   "execution_count": 9,
   "metadata": {},
   "outputs": [
    {
     "data": {
      "text/plain": [
       "b'type'"
      ]
     },
     "execution_count": 9,
     "metadata": {},
     "output_type": "execute_result"
    }
   ],
   "source": [
    "b'type'"
   ]
  },
  {
   "cell_type": "markdown",
   "metadata": {},
   "source": [
    "4. Преобразовать слова «разработка», «администрирование», «protocol», «standard» из строкового представления в байтовое и выполнить обратное преобразование (используя методы encode и decode)."
   ]
  },
  {
   "cell_type": "code",
   "execution_count": 10,
   "metadata": {},
   "outputs": [
    {
     "name": "stdout",
     "output_type": "stream",
     "text": [
      "\n",
      "Преобразование из троки в байтовую строку:\n",
      "разработка  -  b'\\xff\\xfe@\\x040\\x047\\x04@\\x040\\x041\\x04>\\x04B\\x04:\\x040\\x04'\n",
      "администрирование  -  b'\\xff\\xfe0\\x044\\x04<\\x048\\x04=\\x048\\x04A\\x04B\\x04@\\x048\\x04@\\x04>\\x042\\x040\\x04=\\x048\\x045\\x04'\n",
      "protocol  -  b'\\xff\\xfep\\x00r\\x00o\\x00t\\x00o\\x00c\\x00o\\x00l\\x00'\n",
      "standard  -  b'\\xff\\xfes\\x00t\\x00a\\x00n\\x00d\\x00a\\x00r\\x00d\\x00'\n",
      "\n",
      "Преобразование из байтовой строки в строку:\n",
      "b'\\xff\\xfe@\\x040\\x047\\x04@\\x040\\x041\\x04>\\x04B\\x04:\\x040\\x04'  -  разработка\n",
      "b'\\xff\\xfe0\\x044\\x04<\\x048\\x04=\\x048\\x04A\\x04B\\x04@\\x048\\x04@\\x04>\\x042\\x040\\x04=\\x048\\x045\\x04'  -  администрирование\n",
      "b'\\xff\\xfep\\x00r\\x00o\\x00t\\x00o\\x00c\\x00o\\x00l\\x00'  -  protocol\n",
      "b'\\xff\\xfes\\x00t\\x00a\\x00n\\x00d\\x00a\\x00r\\x00d\\x00'  -  standard\n"
     ]
    }
   ],
   "source": [
    "byte_array = []\n",
    "print('\\nПреобразование из троки в байтовую строку:')\n",
    "for i in ['разработка','администрирование','protocol', 'standard']:\n",
    "    print (i, \" - \", i.encode('utf-16'))\n",
    "    byte_array.append(i.encode('utf-16'))\n",
    "print('\\nПреобразование из байтовой строки в строку:')\n",
    "for i in byte_array:\n",
    "    print (i, \" - \", i.decode('utf-16'))"
   ]
  },
  {
   "cell_type": "markdown",
   "metadata": {},
   "source": [
    "5. Выполнить пинг веб-ресурсов yandex.ru, youtube.com и преобразовать результаты из байтовового в строковый тип на кириллице."
   ]
  },
  {
   "cell_type": "code",
   "execution_count": 13,
   "metadata": {},
   "outputs": [],
   "source": [
    "# в процессе\n",
    "ping_data = requests.get('http://www.yandex.ru')"
   ]
  },
  {
   "cell_type": "markdown",
   "metadata": {},
   "source": [
    "6. Создать текстовый файл test_file.txt, заполнить его тремя строками: «сетевое программирование», «сокет», «декоратор». Проверить кодировку файла по умолчанию. Принудительно открыть файл в формате Unicode и вывести его содержимое."
   ]
  },
  {
   "cell_type": "code",
   "execution_count": null,
   "metadata": {},
   "outputs": [],
   "source": [
    "# в процессе"
   ]
  },
  {
   "cell_type": "code",
   "execution_count": null,
   "metadata": {},
   "outputs": [],
   "source": [
    "#chardet.detect(byte_str)\n",
    "#byte_str.decode(chardet.detect(byte_str).get('encoding'))"
   ]
  }
 ],
 "metadata": {
  "kernelspec": {
   "display_name": "Python 3",
   "language": "python",
   "name": "python3"
  },
  "language_info": {
   "codemirror_mode": {
    "name": "ipython",
    "version": 3
   },
   "file_extension": ".py",
   "mimetype": "text/x-python",
   "name": "python",
   "nbconvert_exporter": "python",
   "pygments_lexer": "ipython3",
   "version": "3.7.2"
  }
 },
 "nbformat": 4,
 "nbformat_minor": 2
}
